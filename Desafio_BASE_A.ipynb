{
 "cells": [
  {
   "cell_type": "code",
   "execution_count": 37,
   "metadata": {},
   "outputs": [],
   "source": [
    "import findspark\n",
    "findspark.init()\n",
    "\n",
    "import pyspark\n",
    "from pyspark.sql import SparkSession\n",
    "\n",
    "spark = SparkSession \\\n",
    "    .builder \\\n",
    "    .appName(\"PD\") \\\n",
    "    .getOrCreate()\n",
    "\n",
    "path = \"C:\\\\Users\\\\Leticia Pereira\\\\Documents\\\\Datasets - Teste Data Engineer - Passei Direto\\\\\" #substituir\n",
    "\n",
    "courses = spark.read.json((path+\"BASE A\\\\courses.json\"))\n",
    "sessions = spark.read.json(path+\"BASE A\\\\sessions.json\")\n",
    "stud_follow = spark.read.json(path+\"BASE A\\\\student_follow_subject.json\")\n",
    "students = spark.read.json(path+\"BASE A\\\\students.json\")\n",
    "subjects = spark.read.json(path+\"BASE A\\\\subjects.json\")\n",
    "subscriptions = spark.read.json(path+\"BASE A\\\\subscriptions.json\")\n",
    "universities = spark.read.json(path+\"BASE A\\\\universities.json\")"
   ]
  },
  {
   "cell_type": "code",
   "execution_count": 34,
   "metadata": {},
   "outputs": [
    {
     "name": "stdout",
     "output_type": "stream",
     "text": [
      "+-------+--------------------+\n",
      "|     Id|                Name|\n",
      "+-------+--------------------+\n",
      "|1199555| Engenharia Elétrica|\n",
      "|1199521|Economia / Ciênci...|\n",
      "|1199517|             Direito|\n",
      "|1199491| Ciências Ambientais|\n",
      "|1199573|  Engenharia Química|\n",
      "|1199553|Engenharia de Pro...|\n",
      "|1199536|Engenharia Ambiental|\n",
      "|1199725|             Química|\n",
      "|1199453|       Administração|\n",
      "|1199701|         Odontologia|\n",
      "|1199461|           Agronomia|\n",
      "|1199741|      Serviço Social|\n",
      "|1199532|Engenharia Aeroná...|\n",
      "|1199544|    Engenharia Civil|\n",
      "|1199724|Comunicação Socia...|\n",
      "|1199704|           Pedagogia|\n",
      "|1199699|            Nutrição|\n",
      "|6495411|      Gestão Pública|\n",
      "|1199687|            Medicina|\n",
      "|1199734|Relações Internac...|\n",
      "+-------+--------------------+\n",
      "only showing top 20 rows\n",
      "\n"
     ]
    }
   ],
   "source": [
    "courses.show()"
   ]
  },
  {
   "cell_type": "code",
   "execution_count": 35,
   "metadata": {},
   "outputs": [
    {
     "name": "stdout",
     "output_type": "stream",
     "text": [
      "+-------------------+-------------+--------------------+\n",
      "|   SessionStartTime|StudentClient|           StudentId|\n",
      "+-------------------+-------------+--------------------+\n",
      "|2017-11-18 15:47:33|      Website|0cade9bf00234e378...|\n",
      "|2017-11-20 22:21:13|      Website|0cade9bf00234e378...|\n",
      "|2017-11-20 22:35:31|      Website|0cade9bf00234e378...|\n",
      "|2017-11-20 23:35:46|      Website|0cade9bf00234e378...|\n",
      "|2017-11-23 21:24:00|      Website|0cade9bf00234e378...|\n",
      "|2017-11-24 02:08:08|      Website|0cade9bf00234e378...|\n",
      "|2017-11-13 13:12:49|      Website|8a501cab6c0a5a7e9...|\n",
      "|2017-11-06 21:34:45|      Website|b8a39150d98d74685...|\n",
      "|2017-11-20 15:26:09|      Website|b8a39150d98d74685...|\n",
      "|2017-11-20 21:40:32|      Website|b8a39150d98d74685...|\n",
      "|2017-11-28 21:40:03|      Website|b8a39150d98d74685...|\n",
      "|2017-11-02 11:04:17|      Website|0f6c90f966a70b84b...|\n",
      "|2017-11-03 14:19:56|      Website|0f6c90f966a70b84b...|\n",
      "|2017-11-06 11:59:36|      Website|0f6c90f966a70b84b...|\n",
      "|2017-11-09 15:09:56|      Website|0f6c90f966a70b84b...|\n",
      "|2017-11-15 14:37:10|      Website|0f6c90f966a70b84b...|\n",
      "|2017-11-20 22:27:53|      Website|0f6c90f966a70b84b...|\n",
      "|2017-11-21 17:38:22|      Website|388bf84cffb321938...|\n",
      "|2017-11-22 14:35:46|      Website|388bf84cffb321938...|\n",
      "|2017-11-06 20:33:29|      Website|5764c7b7c75f30474...|\n",
      "+-------------------+-------------+--------------------+\n",
      "only showing top 20 rows\n",
      "\n"
     ]
    }
   ],
   "source": [
    "sessions.show()"
   ]
  },
  {
   "cell_type": "code",
   "execution_count": 18,
   "metadata": {},
   "outputs": [
    {
     "name": "stdout",
     "output_type": "stream",
     "text": [
      "+--------------------+--------------------+---------+\n",
      "|          FollowDate|           StudentId|SubjectId|\n",
      "+--------------------+--------------------+---------+\n",
      "|2015-09-07 15:49:...|0cade9bf00234e378...|   682889|\n",
      "|2015-09-07 15:49:...|0cade9bf00234e378...|   684377|\n",
      "|2015-09-07 15:49:...|0cade9bf00234e378...|   698583|\n",
      "|2015-09-07 15:49:...|0cade9bf00234e378...|   757882|\n",
      "|2015-09-07 15:49:...|0cade9bf00234e378...|  1910475|\n",
      "|2015-12-07 16:17:...|8a501cab6c0a5a7e9...|   673956|\n",
      "|2015-12-07 16:17:...|8a501cab6c0a5a7e9...|   674245|\n",
      "|2015-12-07 16:17:...|8a501cab6c0a5a7e9...|   681478|\n",
      "|2015-12-07 16:17:...|8a501cab6c0a5a7e9...|   681925|\n",
      "|2015-12-07 16:17:...|8a501cab6c0a5a7e9...|   693487|\n",
      "|2016-05-30 10:31:...|b8a39150d98d74685...|   670492|\n",
      "|2016-05-30 10:31:...|b8a39150d98d74685...|   671126|\n",
      "|2016-05-30 10:31:...|b8a39150d98d74685...|   686806|\n",
      "|2016-05-30 10:31:...|b8a39150d98d74685...|   689481|\n",
      "|2016-05-30 10:31:...|b8a39150d98d74685...|  1663821|\n",
      "|2017-11-03 12:23:...|0f6c90f966a70b84b...|   670937|\n",
      "|2016-04-01 20:22:...|0f6c90f966a70b84b...|   671197|\n",
      "|2017-11-03 12:23:...|0f6c90f966a70b84b...|   673846|\n",
      "|2016-04-01 20:22:...|0f6c90f966a70b84b...|   674226|\n",
      "|2016-04-01 20:22:...|0f6c90f966a70b84b...|   695790|\n",
      "+--------------------+--------------------+---------+\n",
      "only showing top 20 rows\n",
      "\n"
     ]
    }
   ],
   "source": [
    "stud_follow.show()"
   ]
  },
  {
   "cell_type": "code",
   "execution_count": 14,
   "metadata": {},
   "outputs": [
    {
     "name": "stdout",
     "output_type": "stream",
     "text": [
      "+----------------+--------+--------------------+--------------------+------------+----------------+-------------+------------+\n",
      "|            City|CourseId|                  Id|      RegisteredDate|SignupSource|           State|StudentClient|UniversityId|\n",
      "+----------------+--------+--------------------+--------------------+------------+----------------+-------------+------------+\n",
      "|  Rio de Janeiro| 1199555|0cade9bf00234e378...|2012-09-06 17:27:...|    Facebook|  Rio de Janeiro|         null|      664704|\n",
      "|  Rio de Janeiro| 1199521|8a501cab6c0a5a7e9...|2012-09-05 15:31:...|    Facebook|  Rio de Janeiro|         null|      664704|\n",
      "|            null| 1199517|b8a39150d98d74685...|2012-08-17 10:00:...|    Facebook|            null|         null|      661625|\n",
      "|  Rio de Janeiro| 1199491|0f6c90f966a70b84b...|2012-10-22 21:16:...|    Facebook|  Rio de Janeiro|         null|      664768|\n",
      "|            null| 1199573|388bf84cffb321938...|2012-10-24 01:48:...|    Facebook|    Minas Gerais|         null|      663106|\n",
      "|   Florianópolis| 1199521|5764c7b7c75f30474...|2012-11-07 17:23:...|    Facebook|  Santa Catarina|         null|      664138|\n",
      "|        Mesquita| 1199517|4522694e98b51ba30...|2012-08-21 15:13:...|    Facebook|  Rio de Janeiro|         null|      664742|\n",
      "|        Londrina| 1199553|0360730b79c8ecd04...|2012-11-22 23:51:...|    Facebook|          Paraná|         null|      663609|\n",
      "|  Rio de Janeiro| 1199491|668514e190e792018...|2012-10-22 21:16:...|       Email|  Rio de Janeiro|         null|      664768|\n",
      "|      Ouro Preto| 1199536|7c743c3365d9b9696...|2012-10-24 16:28:...|    Facebook|    Minas Gerais|         null|      663054|\n",
      "|          Viçosa| 1199725|09e1497357395b825...|2012-10-15 21:34:...|    Facebook|    Minas Gerais|         null|      663065|\n",
      "|            null| 1199453|29037b0a52c5b576d...|2012-10-30 17:02:...|       Email|    Minas Gerais|         null|      664565|\n",
      "|   Volta Redonda| 1199701|9f3a457a426cae314...|2012-08-21 15:27:...|    Facebook|  Rio de Janeiro|         null|      665419|\n",
      "|            null| 1199461|f0ec48700197a23c4...|2012-10-15 21:34:...|    Facebook|            null|         null|      663065|\n",
      "|São João del Rei| 1199555|57e35f4dbe1f277de...|2012-09-18 09:53:...|    Facebook|    Minas Gerais|         null|      663106|\n",
      "|        Brasília| 1199536|5247dbaa0d6cac436...|2012-09-10 20:26:...|    Facebook|Distrito Federal|         null|      662926|\n",
      "|        Sorocaba| 1199553|603aec86462715af4...|2012-12-03 19:55:...|    Facebook|       São Paulo|         null|      664240|\n",
      "|            null| 1199741|7e7d6eb03294f5a7f...|2012-09-10 20:26:...|       Email|Distrito Federal|         null|      662926|\n",
      "| Poços de Caldas| 1199517|735218971fa78ff17...|2012-09-26 02:29:...|    Facebook|    Minas Gerais|         null|      663134|\n",
      "|      Uberlândia| 1199532|3c912e19c1203ff04...|2012-10-15 21:34:...|    Facebook|    Minas Gerais|         null|      663075|\n",
      "+----------------+--------+--------------------+--------------------+------------+----------------+-------------+------------+\n",
      "only showing top 20 rows\n",
      "\n"
     ]
    }
   ],
   "source": [
    "students.show()\n",
    "\n",
    "#students.createOrReplaceTempView(\"cursos\")\n",
    "\n",
    "# Verificando se estudante pode ter mais de um curso\n",
    "#studentsCount = spark.sql(\"SELECT Id, COUNT(CourseId) as Qtd_cursos FROM cursos GROUP BY Id HAVING COUNT(CourseId) > 1 \")\n",
    "#studentsCount.show()\n",
    "\n",
    "# Verificando StudentsClient\n",
    "#studentsCount = spark.sql(\"SELECT DISTINCT StudentClient FROM cursos\")\n",
    "#studentsCount.show()"
   ]
  },
  {
   "cell_type": "code",
   "execution_count": 20,
   "metadata": {},
   "outputs": [
    {
     "name": "stdout",
     "output_type": "stream",
     "text": [
      "+-------+--------------------+\n",
      "|     Id|                Name|\n",
      "+-------+--------------------+\n",
      "| 682889|       Eletrônica II|\n",
      "| 684377|Circuitos Elétric...|\n",
      "| 698583|          Eletrônica|\n",
      "| 757882|        Circuitos II|\n",
      "|1910475|Circuitos Elétric...|\n",
      "| 673956|Teoria Microeconô...|\n",
      "| 674245|       Econometria I|\n",
      "| 681478|     Microeconomia 2|\n",
      "| 681925|     Microeconomia 1|\n",
      "| 693487|Métodos Quantitat...|\n",
      "| 670492|Direito Administr...|\n",
      "| 671126|Direito Constituc...|\n",
      "| 686806|             Direito|\n",
      "| 689481|     Direito Civil I|\n",
      "|1663821|Extras (livros, C...|\n",
      "| 670937|   Direito Ambiental|\n",
      "| 671197|         Estatística|\n",
      "| 673846|            Ecologia|\n",
      "| 674226|    Geoprocessamento|\n",
      "| 695790|Sistemas de Infor...|\n",
      "+-------+--------------------+\n",
      "only showing top 20 rows\n",
      "\n"
     ]
    }
   ],
   "source": [
    "subjects.show()"
   ]
  },
  {
   "cell_type": "markdown",
   "metadata": {},
   "source": [
    "subscriptions.show()"
   ]
  },
  {
   "cell_type": "code",
   "execution_count": 22,
   "metadata": {},
   "outputs": [
    {
     "name": "stdout",
     "output_type": "stream",
     "text": [
      "+------+-----------+\n",
      "|    Id|       Name|\n",
      "+------+-----------+\n",
      "|664704|       UERJ|\n",
      "|661625|    PUC-RIO|\n",
      "|664768|     UNIRIO|\n",
      "|663106|       UFSJ|\n",
      "|664138|       UFSC|\n",
      "|664742|       UFRJ|\n",
      "|663609|     PUC-PR|\n",
      "|663054|       UFOP|\n",
      "|663065|        UFV|\n",
      "|664565|ESTÁCIO EAD|\n",
      "|665419|     UNIFOA|\n",
      "|662926|        UNB|\n",
      "|664240|     UFSCAR|\n",
      "|663134|  PUC-MINAS|\n",
      "|663075|        UFU|\n",
      "|664623|    ESTÁCIO|\n",
      "|665677|        UVV|\n",
      "|662981|        UFG|\n",
      "|663165|       UFMG|\n",
      "|662944|       UFES|\n",
      "+------+-----------+\n",
      "only showing top 20 rows\n",
      "\n"
     ]
    }
   ],
   "source": [
    "universities.show()"
   ]
  },
  {
   "cell_type": "code",
   "execution_count": 15,
   "metadata": {},
   "outputs": [
    {
     "name": "stdout",
     "output_type": "stream",
     "text": [
      "+--------------------+--------+--------------------+\n",
      "|         PaymentDate|PlanType|           StudentId|\n",
      "+--------------------+--------+--------------------+\n",
      "|2017-11-14 19:52:...|  Mensal|29037b0a52c5b576d...|\n",
      "|2017-11-08 11:52:...|  Mensal|b2bace77d15c3dfaf...|\n",
      "|2017-11-05 21:27:...|  Mensal|f423d6fe2f8964db6...|\n",
      "|2017-11-15 14:36:...|  Mensal|55ccbe518d2edbbd5...|\n",
      "|2017-11-12 22:19:...|  Mensal|b1b0f63fe3e4820cb...|\n",
      "|2017-11-22 01:03:...|  Mensal|ed46832f6b716fb2e...|\n",
      "|2017-11-24 19:03:...|  Mensal|69b7bee32821cf76b...|\n",
      "|2017-11-11 21:01:...|  Mensal|6553923125fe6364e...|\n",
      "|2017-11-12 16:41:...|  Mensal|3903a334d1af8ce83...|\n",
      "|2017-11-21 11:52:...|  Mensal|4487f81a4ea9b3c3c...|\n",
      "|2017-11-06 22:14:...|  Mensal|bde8436a92ab53ce2...|\n",
      "|2017-11-17 19:30:...|  Mensal|3ae094228e1b9324e...|\n",
      "|2017-11-10 22:33:...|  Mensal|5a0df378119b95d3c...|\n",
      "|2017-11-08 22:06:...|  Mensal|fed3de568756e019f...|\n",
      "|2017-11-01 18:14:...|  Mensal|68beec3e289e3316e...|\n",
      "|2017-11-10 15:22:...|  Mensal|ecb4e29cd9585b080...|\n",
      "|2017-11-09 01:10:...|  Mensal|2e34dfda3cca387a7...|\n",
      "|2017-11-08 00:41:...|  Mensal|85529f64c1428b69f...|\n",
      "|2017-11-30 12:57:...|  Mensal|a189c626b75ca9925...|\n",
      "|2017-11-13 12:20:...|  Mensal|fe9f61ef8539dfbdb...|\n",
      "+--------------------+--------+--------------------+\n",
      "only showing top 20 rows\n",
      "\n",
      "+---------+--------+\n",
      "|StudentId|Qtd_Plan|\n",
      "+---------+--------+\n",
      "+---------+--------+\n",
      "\n"
     ]
    }
   ],
   "source": [
    "subscriptions.show()\n",
    "\n",
    "# Verificando se um estudante pode ter mais de um data de assinatura\n",
    "subscriptions.createOrReplaceTempView(\"assinaturas\")\n",
    "#subscriptionsPgto = spark.sql(\"SELECT StudentId, COUNT(PaymentDate) as Qtd_Pagto FROM assinaturas GROUP BY StudentId HAVING COUNT(PaymentDate) > 1 \")\n",
    "#subscriptionsPgto.show()\n",
    "\n",
    "# Verificando se um estudante pode ter mais de um tipo de assinatura\n",
    "subscriptionsPlan = spark.sql(\"SELECT StudentId, COUNT(DISTINCT PlanType) as Qtd_Plan FROM assinaturas GROUP BY StudentId HAVING COUNT(DISTINCT PlanType) > 1 \")\n",
    "subscriptionsPlan.show()\n"
   ]
  },
  {
   "cell_type": "code",
   "execution_count": 28,
   "metadata": {},
   "outputs": [
    {
     "name": "stdout",
     "output_type": "stream",
     "text": [
      "+------+-----------+\n",
      "|    Id|       Name|\n",
      "+------+-----------+\n",
      "|664704|       UERJ|\n",
      "|661625|    PUC-RIO|\n",
      "|664768|     UNIRIO|\n",
      "|663106|       UFSJ|\n",
      "|664138|       UFSC|\n",
      "|664742|       UFRJ|\n",
      "|663609|     PUC-PR|\n",
      "|663054|       UFOP|\n",
      "|663065|        UFV|\n",
      "|664565|ESTÁCIO EAD|\n",
      "|665419|     UNIFOA|\n",
      "|662926|        UNB|\n",
      "|664240|     UFSCAR|\n",
      "|663134|  PUC-MINAS|\n",
      "|663075|        UFU|\n",
      "|664623|    ESTÁCIO|\n",
      "|665677|        UVV|\n",
      "|662981|        UFG|\n",
      "|663165|       UFMG|\n",
      "|662944|       UFES|\n",
      "+------+-----------+\n",
      "only showing top 20 rows\n",
      "\n"
     ]
    }
   ],
   "source": [
    "universities.show()"
   ]
  },
  {
   "cell_type": "code",
   "execution_count": null,
   "metadata": {},
   "outputs": [],
   "source": []
  }
 ],
 "metadata": {
  "kernelspec": {
   "display_name": "Python 3",
   "language": "python",
   "name": "python3"
  },
  "language_info": {
   "codemirror_mode": {
    "name": "ipython",
    "version": 3
   },
   "file_extension": ".py",
   "mimetype": "text/x-python",
   "name": "python",
   "nbconvert_exporter": "python",
   "pygments_lexer": "ipython3",
   "version": "3.9.1"
  }
 },
 "nbformat": 4,
 "nbformat_minor": 4
}
