{
 "cells": [
  {
   "cell_type": "code",
   "execution_count": 160,
   "metadata": {},
   "outputs": [],
   "source": [
    "import findspark\n",
    "findspark.init('C:\\Spark\\spark-3.0.1-bin-hadoop2.7')\n",
    "\n",
    "import pyspark\n",
    "from pyspark.sql import SparkSession\n",
    "\n",
    "spark = SparkSession \\\n",
    "    .builder \\\n",
    "    .appName(\"PD\") \\\n",
    "    .getOrCreate()\n",
    "\n",
    "path = \"C:\\\\Users\\\\Leticia Pereira\\\\Documents\\\\Datasets - Teste Data Engineer - Passei Direto\\\\\" #substituir\n",
    "\n",
    "courses = spark.read.json(path+\"BASE A\\\\courses.json\").createOrReplaceTempView(\"cursos\")\n",
    "sessions = spark.read.json(path+\"BASE A\\\\sessions.json\").createOrReplaceTempView(\"sessoes\")\n",
    "stud_follow = spark.read.json(path+\"BASE A\\\\student_follow_subject.json\").createOrReplaceTempView(\"seguidas\")\n",
    "students = spark.read.json(path+\"BASE A\\\\students.json\").createOrReplaceTempView(\"alunos\")\n",
    "DFstudents = spark.read.json(path+\"BASE A\\\\students.json\")\n",
    "subjects = spark.read.json(path+\"BASE A\\\\subjects.json\").createOrReplaceTempView(\"assuntos\")\n",
    "subscriptions = spark.read.json(path+\"BASE A\\\\subscriptions.json\").createOrReplaceTempView(\"assinaturas\")\n",
    "universities = spark.read.json(path+\"BASE A\\\\universities.json\").createOrReplaceTempView(\"universidades\")\n",
    "DFuniversities = spark.read.json(path+\"BASE A\\\\universities.json\")\n",
    "pageViews = spark.read.json(path+\"BASE B\\\\*json\").createOrReplaceTempView(\"pageViews\")"
   ]
  },
  {
   "cell_type": "code",
   "execution_count": 117,
   "metadata": {},
   "outputs": [
    {
     "name": "stdout",
     "output_type": "stream",
     "text": [
      "+---------------------+------+\n",
      "|Page Category        |count |\n",
      "+---------------------+------+\n",
      "|disciplina           |335880|\n",
      "|home                 |71624 |\n",
      "|cadastro             |56984 |\n",
      "|busca                |41595 |\n",
      "|arquivo              |38527 |\n",
      "|premium              |35924 |\n",
      "|pergunta             |30006 |\n",
      "|perfil               |26475 |\n",
      "|lista                |12598 |\n",
      "|listas               |12310 |\n",
      "|pagamento            |9608  |\n",
      "|configuracoes        |7642  |\n",
      "|exercicios-resolvidos|5911  |\n",
      "|explorar-materiais   |5188  |\n",
      "|ranking              |2679  |\n",
      "|meu-premium          |1151  |\n",
      "|materiais-de-estudo  |985   |\n",
      "|estude               |752   |\n",
      "|topico               |722   |\n",
      "|mensagens            |376   |\n",
      "+---------------------+------+\n",
      "only showing top 20 rows\n",
      "\n"
     ]
    }
   ],
   "source": [
    "# pageViews.printSchema()\n",
    "\n",
    "df = spark.sql(\"SELECT session_uuid, city_name, marketing_campaign, user_type, marketing_source, `Page Category`, SUBSTR(studentId_clientType, 0, INSTR(studentId_clientType, '@')-1) AS studentId FROM pageViews\")\n",
    "df.groupBy(\"Page Category\").count().orderBy('count', ascending=False).show(truncate=False)"
   ]
  },
  {
   "cell_type": "code",
   "execution_count": 158,
   "metadata": {},
   "outputs": [
    {
     "name": "stdout",
     "output_type": "stream",
     "text": [
      "+--------------------+---------+------------------+---------+----------------+-------------+--------------------+------+--------+--------------------+------------+-------+-------------+------------+------+-------+\n",
      "|        session_uuid|city_name|marketing_campaign|user_type|marketing_source|Page Category|           studentId|  City|CourseId|      RegisteredDate|SignupSource|  State|StudentClient|UniversityId|    Id|   Name|\n",
      "+--------------------+---------+------------------+---------+----------------+-------------+--------------------+------+--------+--------------------+------------+-------+-------------+------------+------+-------+\n",
      "|7b20734920adf179c...|     null|              null|    known|            null|   disciplina|04f5634512e7a853f...|Maceió| 1199517|2017-10-02 13:42:...|      Google|Alagoas|      Website|      664623|664623|ESTÁCIO|\n",
      "|7b20734920adf179c...|     null|              null|    known|            null|   disciplina|04f5634512e7a853f...|Maceió| 1199517|2017-10-02 13:42:...|      Google|Alagoas|      Website|      664623|664623|ESTÁCIO|\n",
      "|7b20734920adf179c...|     null|              null|    known|            null|   disciplina|04f5634512e7a853f...|Maceió| 1199517|2017-10-02 13:42:...|      Google|Alagoas|      Website|      664623|664623|ESTÁCIO|\n",
      "|7b20734920adf179c...|     null|              null|    known|            null|   disciplina|04f5634512e7a853f...|Maceió| 1199517|2017-10-02 13:42:...|      Google|Alagoas|      Website|      664623|664623|ESTÁCIO|\n",
      "|7b20734920adf179c...|     null|              null|    known|            null|   disciplina|04f5634512e7a853f...|Maceió| 1199517|2017-10-02 13:42:...|      Google|Alagoas|      Website|      664623|664623|ESTÁCIO|\n",
      "|7b20734920adf179c...|     null|              null|    known|            null|   disciplina|04f5634512e7a853f...|Maceió| 1199517|2017-10-02 13:42:...|      Google|Alagoas|      Website|      664623|664623|ESTÁCIO|\n",
      "|7b20734920adf179c...|     null|              null|    known|            null|   disciplina|04f5634512e7a853f...|Maceió| 1199517|2017-10-02 13:42:...|      Google|Alagoas|      Website|      664623|664623|ESTÁCIO|\n",
      "|7b20734920adf179c...|     null|              null|    known|            null|   disciplina|04f5634512e7a853f...|Maceió| 1199517|2017-10-02 13:42:...|      Google|Alagoas|      Website|      664623|664623|ESTÁCIO|\n",
      "|7b20734920adf179c...|     null|              null|    known|            null|        busca|04f5634512e7a853f...|Maceió| 1199517|2017-10-02 13:42:...|      Google|Alagoas|      Website|      664623|664623|ESTÁCIO|\n",
      "|7b20734920adf179c...|     null|              null|    known|            null|   disciplina|04f5634512e7a853f...|Maceió| 1199517|2017-10-02 13:42:...|      Google|Alagoas|      Website|      664623|664623|ESTÁCIO|\n",
      "|7b20734920adf179c...|     null|              null|    known|            null|   disciplina|04f5634512e7a853f...|Maceió| 1199517|2017-10-02 13:42:...|      Google|Alagoas|      Website|      664623|664623|ESTÁCIO|\n",
      "|7b20734920adf179c...|     null|              null|    known|            null|   disciplina|04f5634512e7a853f...|Maceió| 1199517|2017-10-02 13:42:...|      Google|Alagoas|      Website|      664623|664623|ESTÁCIO|\n",
      "|7b20734920adf179c...|     null|              null|    known|            null|   disciplina|04f5634512e7a853f...|Maceió| 1199517|2017-10-02 13:42:...|      Google|Alagoas|      Website|      664623|664623|ESTÁCIO|\n",
      "|7b20734920adf179c...|     null|              null|    known|            null|   disciplina|04f5634512e7a853f...|Maceió| 1199517|2017-10-02 13:42:...|      Google|Alagoas|      Website|      664623|664623|ESTÁCIO|\n",
      "|7b20734920adf179c...|     null|              null|    known|            null|   disciplina|04f5634512e7a853f...|Maceió| 1199517|2017-10-02 13:42:...|      Google|Alagoas|      Website|      664623|664623|ESTÁCIO|\n",
      "|7b20734920adf179c...|     null|              null|    known|            null|   disciplina|04f5634512e7a853f...|Maceió| 1199517|2017-10-02 13:42:...|      Google|Alagoas|      Website|      664623|664623|ESTÁCIO|\n",
      "|7b20734920adf179c...|     null|              null|    known|            null|   disciplina|04f5634512e7a853f...|Maceió| 1199517|2017-10-02 13:42:...|      Google|Alagoas|      Website|      664623|664623|ESTÁCIO|\n",
      "|7b20734920adf179c...|     null|              null|    known|            null|   disciplina|04f5634512e7a853f...|Maceió| 1199517|2017-10-02 13:42:...|      Google|Alagoas|      Website|      664623|664623|ESTÁCIO|\n",
      "|7b20734920adf179c...|     null|              null|    known|            null|   disciplina|04f5634512e7a853f...|Maceió| 1199517|2017-10-02 13:42:...|      Google|Alagoas|      Website|      664623|664623|ESTÁCIO|\n",
      "|7b20734920adf179c...|     null|              null|    known|            null|   disciplina|04f5634512e7a853f...|Maceió| 1199517|2017-10-02 13:42:...|      Google|Alagoas|      Website|      664623|664623|ESTÁCIO|\n",
      "+--------------------+---------+------------------+---------+----------------+-------------+--------------------+------+--------+--------------------+------------+-------+-------------+------------+------+-------+\n",
      "only showing top 20 rows\n",
      "\n"
     ]
    }
   ],
   "source": [
    "df.createOrReplaceTempView(\"navegacao\")\n",
    "# studentPage = spark.sql(\"SELECT nav.*, alu.*, uni.Name FROM navegacao nav INNER JOIN alunos alu ON nav.student = alu.Id INNER JOIN universidades uni ON alu.UniversityId = uni.Id\") \n",
    "\n",
    "ligacao = df.join(DFstudents, df.studentId == DFstudents.Id, how='inner').drop(\"Id\")\n",
    "\n",
    "ligacao = ligacao.join(DFuniversities, DFuniversities.Id == ligacao.UniversityId, how='inner')\n",
    "\n",
    "ligacao.show()\n"
   ]
  }
 ],
 "metadata": {
  "kernelspec": {
   "display_name": "Python 3",
   "language": "python",
   "name": "python3"
  },
  "language_info": {
   "codemirror_mode": {
    "name": "ipython",
    "version": 3
   },
   "file_extension": ".py",
   "mimetype": "text/x-python",
   "name": "python",
   "nbconvert_exporter": "python",
   "pygments_lexer": "ipython3",
   "version": "3.9.1"
  }
 },
 "nbformat": 4,
 "nbformat_minor": 4
}
